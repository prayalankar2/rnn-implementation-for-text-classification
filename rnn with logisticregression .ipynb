{
 "cells": [
  {
   "cell_type": "code",
   "execution_count": 1,
   "metadata": {
    "collapsed": true
   },
   "outputs": [],
   "source": [
    "from __future__ import absolute_import\n",
    "from __future__ import division\n",
    "from __future__ import print_function\n",
    "import numpy as np\n",
    "import pandas\n",
    "import sklearn\n",
    "import tensorflow as tf\n",
    "from tensorflow.contrib import learn\n",
    "import pandas as pd\n",
    "import nltk\n",
    "import re\n",
    "from sklearn import cross_validation"
   ]
  },
  {
   "cell_type": "code",
   "execution_count": 2,
   "metadata": {
    "collapsed": true
   },
   "outputs": [],
   "source": [
    "def clean_str(string):\n",
    "    string = re.sub(r\"[^A-Za-z0-9(),!?\\'\\`]\", \" \", string)\n",
    "    string = re.sub(r\"\\'s\", \" \\'s\", string)\n",
    "    string = re.sub(r\"\\'ve\", \" \\'ve\", string)\n",
    "    string = re.sub(r\"n\\'t\", \" n\\'t\", string)\n",
    "    string = re.sub(r\"\\'re\", \" \\'re\", string)\n",
    "    string = re.sub(r\"\\'d\", \" \\'d\", string)\n",
    "    string = re.sub(r\"\\'ll\", \" \\'ll\", string)\n",
    "    string = re.sub(r\",\", \" , \", string)\n",
    "    string = re.sub(r\"!\", \" ! \", string)\n",
    "    string = re.sub(r\"\\(\", \" \\( \", string)\n",
    "    string = re.sub(r\"\\)\", \" \\) \", string)\n",
    "    string = re.sub(r\"\\?\", \" \\? \", string)\n",
    "    string = re.sub(r\"\\s{2,}\", \" \", string)\n",
    "    return string.strip().lower()"
   ]
  },
  {
   "cell_type": "code",
   "execution_count": 13,
   "metadata": {
    "collapsed": true
   },
   "outputs": [],
   "source": [
    "#making data frame\n",
    "\n",
    "f=open(\"/home/prayalankar/data/train_1000.label\",\"r+b\")\n",
    "col=['category','label','data']\n",
    "df=pd.DataFrame(columns=col)\n",
    "df\n",
    "\n",
    "while True:\n",
    "    as1=f.readline()\n",
    "    if as1=='':\n",
    "        break\n",
    "    as1=nltk.word_tokenize(as1)\n",
    "    str1=' '.join(as1[3:])\n",
    "    df.loc[len(df)]=[as1[0],as1[2],str1]"
   ]
  },
  {
   "cell_type": "code",
   "execution_count": 4,
   "metadata": {
    "collapsed": true
   },
   "outputs": [],
   "source": [
    "#separating the text data\n",
    "\n",
    "x=df.data\n",
    "de=[]\n",
    "for p in x:\n",
    "    de.append(p)"
   ]
  },
  {
   "cell_type": "code",
   "execution_count": 5,
   "metadata": {
    "collapsed": true
   },
   "outputs": [],
   "source": [
    "#final cleaned text\n",
    "x_text=[clean_str(p) for p in de]"
   ]
  },
  {
   "cell_type": "code",
   "execution_count": 6,
   "metadata": {
    "collapsed": true
   },
   "outputs": [],
   "source": [
    "#categorising the labels to int \n",
    "number=sklearn.preprocessing.LabelEncoder()\n",
    "df['col3']=number.fit_transform(df['category'])\n",
    "ye=df.col3"
   ]
  },
  {
   "cell_type": "code",
   "execution_count": 7,
   "metadata": {
    "collapsed": true
   },
   "outputs": [],
   "source": [
    "DOC_LEN = 10\n",
    "E_SIZE = 50\n",
    "n_words = 0"
   ]
  },
  {
   "cell_type": "code",
   "execution_count": 8,
   "metadata": {
    "collapsed": true
   },
   "outputs": [],
   "source": [
    "# a method which creates the word vectors and then used GRU cell to store it . This is later passed to supervised algo for training\n",
    "\n",
    "def rnn_logis(x, y):\n",
    "    word_vectors = learn.ops.categorical_variable(x, n_classes=n_words,\n",
    "                                                  embedding_size=E_SIZE, name='words')\n",
    "    word_list = tf.unpack(word_vectors, axis=1)\n",
    "    cell = tf.nn.rnn_cell.GRUCell(E_SIZE)\n",
    "    _, encoding = tf.nn.rnn(cell, word_list, dtype=tf.float32)\n",
    "    target = tf.one_hot(y, 6, 1, 0)\n",
    "    prediction, loss = learn.models.logistic_regression(encoding, target)\n",
    "    train_op = tf.contrib.layers.optimize_loss(\n",
    "        loss, tf.contrib.framework.get_global_step(),\n",
    "        optimizer='Adam', learning_rate=0.01)\n",
    "    \n",
    "    return {'class': tf.argmax(prediction, 1), 'prob': prediction}, loss, train_op"
   ]
  },
  {
   "cell_type": "code",
   "execution_count": 9,
   "metadata": {
    "collapsed": false
   },
   "outputs": [
    {
     "name": "stdout",
     "output_type": "stream",
     "text": [
      "Total words: 2588\n"
     ]
    }
   ],
   "source": [
    "#converting text features into numerical values\n",
    "global n_words\n",
    "x_train = pandas.DataFrame(x_text[100:])[0]\n",
    "y_train = pandas.Series(ye[100:])\n",
    "x_test = pandas.DataFrame(x_text[:100])[0]\n",
    "y_test = pandas.Series(ye[:100])\n",
    "#using tensorflow Vocabulary for embedding text data\n",
    "vocab_processor = learn.preprocessing.VocabularyProcessor(DOC_LEN)\n",
    "x_train = np.array(list(vocab_processor.fit_transform(x_train)))\n",
    "x_test = np.array(list(vocab_processor.transform(x_test)))\n",
    "n_words = len(vocab_processor.vocabulary_)\n",
    "print('Total words: %d' % n_words)"
   ]
  },
  {
   "cell_type": "code",
   "execution_count": 10,
   "metadata": {
    "collapsed": false
   },
   "outputs": [
    {
     "name": "stderr",
     "output_type": "stream",
     "text": [
      "WARNING:tensorflow:Using temporary folder as model directory: /tmp/tmpsLX8x4\n",
      "WARNING:tensorflow:Using default config.\n",
      "WARNING:tensorflow:Setting feature info to TensorSignature(dtype=tf.int64, shape=TensorShape([Dimension(None), Dimension(10)]), is_sparse=False)\n",
      "WARNING:tensorflow:Setting targets info to TensorSignature(dtype=tf.int64, shape=TensorShape([Dimension(None)]), is_sparse=False)\n"
     ]
    }
   ],
   "source": [
    "classifier = learn.Estimator(model_fn=rnn_logis)\n",
    "classifier.fit(  x_train, y_train, steps=100)\n",
    "y_predicted = [\n",
    "\n",
    "    p['class'] for p in classifier.predict(x_test, as_iterable=True)]"
   ]
  },
  {
   "cell_type": "code",
   "execution_count": 12,
   "metadata": {
    "collapsed": false
   },
   "outputs": [
    {
     "data": {
      "text/plain": [
       "0.76000000000000001"
      ]
     },
     "execution_count": 12,
     "metadata": {},
     "output_type": "execute_result"
    }
   ],
   "source": [
    "score = sklearn.metrics.accuracy_score(y_test, y_predicted)\n",
    "score"
   ]
  },
  {
   "cell_type": "code",
   "execution_count": null,
   "metadata": {
    "collapsed": true
   },
   "outputs": [],
   "source": []
  }
 ],
 "metadata": {
  "kernelspec": {
   "display_name": "Python [conda env:bootr]",
   "language": "python",
   "name": "conda-env-bootr-py"
  },
  "language_info": {
   "codemirror_mode": {
    "name": "ipython",
    "version": 2
   },
   "file_extension": ".py",
   "mimetype": "text/x-python",
   "name": "python",
   "nbconvert_exporter": "python",
   "pygments_lexer": "ipython2",
   "version": "2.7.12"
  }
 },
 "nbformat": 4,
 "nbformat_minor": 1
}
